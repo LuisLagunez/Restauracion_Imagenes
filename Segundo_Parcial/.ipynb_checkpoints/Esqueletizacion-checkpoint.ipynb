{
 "cells": [
  {
   "cell_type": "code",
   "execution_count": null,
   "id": "9bc91a0e-b955-4bb8-bced-9506efce7bb5",
   "metadata": {},
   "outputs": [],
   "source": [
    "import numpy as np\n",
    "import cv2\n",
    "import matplotlib.pyplot as plt\n",
    "\n",
    "# Carga la imagen\n",
    "ruta_imagen = \"C:/Users/luisl/OneDrive/Escritorio/PDI/Estancia Investigacion/Recursos/lenna.jpg\"\n",
    "imagen = cv2.imread(ruta_imagen, cv2.IMREAD_GRAYSCALE)\n",
    "\n",
    "# Binarizar la imagen (convertir a blanco y negro)\n",
    "_, imagen_binaria = cv2.threshold(imagen, 127, 255, cv2.THRESH_BINARY)\n",
    "\n",
    "def esqueletizacion_manual(image):\n",
    "    # Inicializar matrices para almacenar resultados intermedios\n",
    "    esqueleto = np.zeros(image.shape, np.uint8)  # Esqueleto resultante\n",
    "    erosionada = np.zeros(image.shape, np.uint8)    # Imagen erosionada\n",
    "    temp = np.zeros(image.shape, np.uint8)      # Almacenamiento temporal\n",
    "\n",
    "    # Iterar hasta que la imagen se vuelva completamente negra\n",
    "    while True:\n",
    "        # Erosión de la imagen original\n",
    "        cv2.erode(image, cv2.getStructuringElement(cv2.MORPH_RECT, (3, 3)), erosionada)\n",
    "        # Dilatación de la imagen erosionada\n",
    "        cv2.dilate(erosionada, cv2.getStructuringElement(cv2.MORPH_RECT, (3, 3)), temp)\n",
    "        # Calcular la diferencia entre la imagen original y la imagen dilatada\n",
    "        cv2.subtract(image, temp, temp)\n",
    "        # Unir la diferencia con el esqueleto actual\n",
    "        cv2.bitwise_or(esqueleto, temp, esqueleto)\n",
    "        # Actualizar la imagen original con la imagen erosionada para la siguiente iteración\n",
    "        image[:,:] = erosionada[:,:]\n",
    "        # Verificar si la imagen original se ha vuelto completamente negra\n",
    "        if cv2.countNonZero(image) == 0:\n",
    "            break\n",
    "\n",
    "    # Devolver el resultado final del esqueleto\n",
    "    return esqueleto\n",
    "\n",
    "\n",
    "# Aplicar la función esqueletizar_manual\n",
    "esqueleto_manual = esqueletizacion_manual(imagen_binaria)\n",
    "\n",
    "# Resultados\n",
    "plt.subplot(1, 2, 1)\n",
    "plt.imshow(imagen_binaria, cmap='gray')\n",
    "plt.title('Original')\n",
    "plt.subplot(1, 2, 2)\n",
    "plt.imshow(esqueleto_manual, cmap='gray')\n",
    "plt.title('Esqueleto Manual')\n",
    "plt.show()\n"
   ]
  }
 ],
 "metadata": {
  "kernelspec": {
   "display_name": "Python 3 (ipykernel)",
   "language": "python",
   "name": "python3"
  },
  "language_info": {
   "codemirror_mode": {
    "name": "ipython",
    "version": 3
   },
   "file_extension": ".py",
   "mimetype": "text/x-python",
   "name": "python",
   "nbconvert_exporter": "python",
   "pygments_lexer": "ipython3",
   "version": "3.12.0"
  }
 },
 "nbformat": 4,
 "nbformat_minor": 5
}
